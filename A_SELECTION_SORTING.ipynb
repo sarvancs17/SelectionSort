{
  "nbformat": 4,
  "nbformat_minor": 0,
  "metadata": {
    "colab": {
      "provenance": [],
      "authorship_tag": "ABX9TyPvYvmfoRFiNEJJf1sJUhmF",
      "include_colab_link": true
    },
    "kernelspec": {
      "name": "python3",
      "display_name": "Python 3"
    },
    "language_info": {
      "name": "python"
    }
  },
  "cells": [
    {
      "cell_type": "markdown",
      "metadata": {
        "id": "view-in-github",
        "colab_type": "text"
      },
      "source": [
        "<a href=\"https://colab.research.google.com/github/sarvancs17/SelectionSort/blob/main/A_SELECTION_SORTING.ipynb\" target=\"_parent\"><img src=\"https://colab.research.google.com/assets/colab-badge.svg\" alt=\"Open In Colab\"/></a>"
      ]
    },
    {
      "cell_type": "code",
      "execution_count": null,
      "metadata": {
        "id": "TdwREYiqoRWu",
        "colab": {
          "base_uri": "https://localhost:8080/"
        },
        "outputId": "3d3101d5-6ed4-4b86-a55a-cf1e834d89c0"
      },
      "outputs": [
        {
          "output_type": "stream",
          "name": "stdout",
          "text": [
            "[56, 3, 2, 78, 6, 0]\n",
            "[0, 3, 2, 78, 6, 56]\n",
            "[0, 2, 3, 78, 6, 56]\n",
            "[0, 2, 3, 78, 6, 56]\n",
            "[0, 2, 3, 6, 78, 56]\n",
            "[0, 2, 3, 6, 56, 78]\n",
            "[0, 2, 3, 6, 56, 78]\n"
          ]
        }
      ],
      "source": [
        "#Selection sort :\n",
        "\n",
        "#sort : :built in list method.\n",
        "#sorted():built in function., ->inplace comparison based algorithm.\n",
        "#56,3,2,78,6,0\n",
        "\n",
        "list1=[56,3,2,78,6,0]\n",
        "print(list1)\n",
        "\n",
        "for i in range(len(list1)):\n",
        "  min_val=min(list1[i:])\n",
        "  min_index=list1.index(min_val)\n",
        "  list1[i],list1[min_index]=list1[min_index],list1[i]\n",
        "  print(list1)\n"
      ]
    },
    {
      "cell_type": "code",
      "source": [
        "#desending order , it wont work for duplicate numbers\n",
        "list1=[56,3,2,78,6,0]\n",
        "print(list1)\n",
        "\n",
        "for i in range(len(list1)):\n",
        "  min_val=max(list1[i:])\n",
        "  max_index=list1.index(max_val)\n",
        "  list1[i],list1[max_index]=list1[max_index],list1[i]\n",
        "  print(list1)"
      ],
      "metadata": {
        "colab": {
          "base_uri": "https://localhost:8080/"
        },
        "id": "iX2horek1qUL",
        "outputId": "fb144fde-4052-4175-ab49-8df62de68054"
      },
      "execution_count": null,
      "outputs": [
        {
          "output_type": "stream",
          "name": "stdout",
          "text": [
            "[56, 3, 2, 78, 6, 0]\n",
            "[78, 3, 2, 56, 6, 0]\n",
            "[78, 56, 2, 3, 6, 0]\n",
            "[78, 56, 6, 3, 2, 0]\n",
            "[78, 56, 6, 3, 2, 0]\n",
            "[78, 56, 6, 3, 2, 0]\n",
            "[78, 56, 6, 3, 2, 0]\n"
          ]
        }
      ]
    },
    {
      "cell_type": "code",
      "source": [
        "# for duplicate numbers - desc - max\n",
        "list1=[56,3,2,2,0,0]\n",
        "print(list1)\n",
        "\n",
        "for i in range(len(list1)):\n",
        "  min_val=max(list1[i:])\n",
        "  max_index=list1.index(max_val,i)\n",
        "  list1[i],list1[max_index]=list1[max_index],list1[i]\n",
        "  print(list1)"
      ],
      "metadata": {
        "colab": {
          "base_uri": "https://localhost:8080/"
        },
        "id": "QHqlcZjo8GCh",
        "outputId": "8368b0e9-095e-4eac-a6fe-df1fa3ed7442"
      },
      "execution_count": null,
      "outputs": [
        {
          "output_type": "stream",
          "name": "stdout",
          "text": [
            "[56, 3, 2, 2, 0, 0]\n",
            "[56, 3, 2, 2, 0, 0]\n",
            "[56, 3, 2, 2, 0, 0]\n",
            "[56, 3, 2, 2, 0, 0]\n",
            "[56, 3, 2, 2, 0, 0]\n",
            "[56, 3, 2, 2, 0, 0]\n",
            "[56, 3, 2, 2, 0, 0]\n"
          ]
        }
      ]
    },
    {
      "cell_type": "code",
      "source": [
        "# for duplicate numbers - ase\n",
        "list1=[56,3,2,2,0,0]\n",
        "print(list1)\n",
        "\n",
        "for i in range(len(list1)):\n",
        "  min_val=min(list1[i:])\n",
        "  min_index=list1.index(min_val,i)\n",
        "  list1[i],list1[min_index]=list1[min_index],list1[i]\n",
        "  print(list1)"
      ],
      "metadata": {
        "colab": {
          "base_uri": "https://localhost:8080/"
        },
        "id": "4gDxItaK82Au",
        "outputId": "fecab764-4078-4622-c610-d501b1278fb4"
      },
      "execution_count": null,
      "outputs": [
        {
          "output_type": "stream",
          "name": "stdout",
          "text": [
            "[56, 3, 2, 2, 0, 0]\n",
            "[0, 3, 2, 2, 56, 0]\n",
            "[0, 0, 2, 2, 56, 3]\n",
            "[0, 0, 2, 2, 56, 3]\n",
            "[0, 0, 2, 2, 56, 3]\n",
            "[0, 0, 2, 2, 3, 56]\n",
            "[0, 0, 2, 2, 3, 56]\n"
          ]
        }
      ]
    },
    {
      "cell_type": "code",
      "source": [
        "#checking with different values\n",
        "list1=[34,5,6,81,0,5]\n",
        "print(\"Unsorted list is \" , list1)\n",
        "\n",
        "for i in range(len(list1)-1):   # by using -1 we can reduce the length of iteration as 5 \n",
        "  min_val=min(list1[i:])\n",
        "  min_index=list1.index(min_val,i)\n",
        "  list1[i],list1[min_index]=list1[min_index],list1[i]\n",
        "  print(list1)"
      ],
      "metadata": {
        "colab": {
          "base_uri": "https://localhost:8080/"
        },
        "id": "Potrjovp8_CX",
        "outputId": "8df8cec1-ecd2-42df-b680-af2207df18f7"
      },
      "execution_count": null,
      "outputs": [
        {
          "output_type": "stream",
          "name": "stdout",
          "text": [
            "Unsorted list is  [34, 5, 6, 81, 0, 5]\n",
            "[0, 5, 6, 81, 34, 5]\n",
            "[0, 5, 6, 81, 34, 5]\n",
            "[0, 5, 5, 81, 34, 6]\n",
            "[0, 5, 5, 6, 34, 81]\n",
            "[0, 5, 5, 6, 34, 81]\n"
          ]
        }
      ]
    },
    {
      "cell_type": "code",
      "source": [
        "list1=[34,5,6,81,0,5]\n",
        "print(\"Unsorted list is \" , list1)\n",
        "\n",
        "for i in range(len(list1)-1):   # by using  this line --> if(list1[i])!=list1[min_index] -->theres no need to swap if the number is same\n",
        "  min_val=min(list1[i:])\n",
        "  min_index=list1.index(min_val,i)\n",
        "  if(list1[i])!=list1[min_index]:\n",
        "    list1[i],list1[min_index]=list1[min_index],list1[i]\n",
        "  print(list1)"
      ],
      "metadata": {
        "colab": {
          "base_uri": "https://localhost:8080/"
        },
        "id": "Mvb-18zF95BF",
        "outputId": "873ae884-a62c-4260-fae6-79708e5a7b62"
      },
      "execution_count": null,
      "outputs": [
        {
          "output_type": "stream",
          "name": "stdout",
          "text": [
            "Unsorted list is  [34, 5, 6, 81, 0, 5]\n",
            "[0, 5, 6, 81, 34, 5]\n",
            "[0, 5, 6, 81, 34, 5]\n",
            "[0, 5, 5, 81, 34, 6]\n",
            "[0, 5, 5, 6, 34, 81]\n",
            "[0, 5, 5, 6, 34, 81]\n"
          ]
        }
      ]
    },
    {
      "cell_type": "code",
      "source": [
        "#Asending order\n",
        "# without using inbuild min(), max() function\n",
        "# by using -1 we can reduce the length of iteration as 5 \n",
        "\n",
        "list1=[34,5,6,81,0,5]\n",
        "print(\"Unsorted list is \" , list1)\n",
        "\n",
        "for i in range(len(list1)-1):   \n",
        "  min_val=list1[i]\n",
        "  for j in range(i+1,len(list1)):\n",
        "      if list1[j] < min_val:\n",
        "        min_val=list1[j]\n",
        "\n",
        "  min_index=list1.index(min_val,i)\n",
        "  list1[i],list1[min_index]=list1[min_index],list1[i]\n",
        "  print(list1)"
      ],
      "metadata": {
        "colab": {
          "base_uri": "https://localhost:8080/"
        },
        "id": "bFLJ-WDh_HB4",
        "outputId": "3e54fb65-7646-40cf-e8ce-37a266b9ff6c"
      },
      "execution_count": null,
      "outputs": [
        {
          "output_type": "stream",
          "name": "stdout",
          "text": [
            "Unsorted list is  [34, 5, 6, 81, 0, 5]\n",
            "[0, 5, 6, 81, 34, 5]\n",
            "[0, 5, 6, 81, 34, 5]\n",
            "[0, 5, 5, 81, 34, 6]\n",
            "[0, 5, 5, 6, 34, 81]\n",
            "[0, 5, 5, 6, 34, 81]\n"
          ]
        }
      ]
    },
    {
      "cell_type": "code",
      "source": [
        "#desending order\n",
        "# without using inbuild min(), max() function\n",
        "# by using -1 we can reduce the length of iteration as 5 \n",
        "\n",
        "list1=[34,5,6,81,0,5]\n",
        "print(\"Unsorted list is \" , list1)\n",
        "\n",
        "for i in range(len(list1)-1):   \n",
        "  max_val=list1[i]\n",
        "  for j in range(i+1,len(list1)):\n",
        "      if list1[j] > max_val:\n",
        "        max_val=list1[j]\n",
        "\n",
        "  max_index=list1.index(max_val,i)\n",
        "  list1[i],list1[max_index]=list1[max_index],list1[i]\n",
        "  print(list1)"
      ],
      "metadata": {
        "colab": {
          "base_uri": "https://localhost:8080/"
        },
        "id": "E2ulpBSVBcf4",
        "outputId": "db42f0a3-3e9e-4249-bace-e9ec82276feb"
      },
      "execution_count": null,
      "outputs": [
        {
          "output_type": "stream",
          "name": "stdout",
          "text": [
            "Unsorted list is  [34, 5, 6, 81, 0, 5]\n",
            "[81, 5, 6, 34, 0, 5]\n",
            "[81, 34, 6, 5, 0, 5]\n",
            "[81, 34, 6, 5, 0, 5]\n",
            "[81, 34, 6, 5, 0, 5]\n",
            "[81, 34, 6, 5, 5, 0]\n"
          ]
        }
      ]
    },
    {
      "cell_type": "code",
      "source": [
        "#without using index\n",
        "#desending order\n",
        "# without using inbuild min(), max() function\n",
        "# by using -1 we can reduce the length of iteration as 5 \n",
        "\n",
        "list1=[34,5,6,81,0,5]\n",
        "print(\"Unsorted list is \" , list1)\n",
        "\n",
        "for i in range(len(list1)-1):   \n",
        "  m_index=i\n",
        "  for j in range(i+1,len(list1)):\n",
        "      if list1[j] > list1[m_index]:\n",
        "        m_index=j\n",
        "  if(list1[i])!=list1[m_index]:\n",
        "    list1[i],list1[m_index]=list1[m_index],list1[i]\n",
        "print(list1)"
      ],
      "metadata": {
        "colab": {
          "base_uri": "https://localhost:8080/"
        },
        "id": "rIbr-ovFCMVi",
        "outputId": "67b5a965-6d4e-47db-daf6-ab5e9db010ff"
      },
      "execution_count": null,
      "outputs": [
        {
          "output_type": "stream",
          "name": "stdout",
          "text": [
            "Unsorted list is  [34, 5, 6, 81, 0, 5]\n",
            "[81, 34, 6, 5, 5, 0]\n"
          ]
        }
      ]
    },
    {
      "cell_type": "code",
      "source": [
        "#without using index  ( if list1[j] < list1[m_index]: ) (asending and desending change)\n",
        "#asending order\n",
        "# without using inbuild min(), max() function\n",
        "# by using -1 we can reduce the length of iteration as 5 \n",
        "\n",
        "\n",
        "list1=[34,5,6,81,0,5]\n",
        "print(\"Unsorted list is \" , list1)\n",
        "\n",
        "for i in range(len(list1)-1):   \n",
        "  m_index=i\n",
        "  for j in range(i+1,len(list1)):\n",
        "      if list1[j] < list1[m_index]:\n",
        "        m_index=j\n",
        "  if(list1[i])!=list1[m_index]:\n",
        "    list1[i],list1[m_index]=list1[m_index],list1[i]\n",
        "print(list1)"
      ],
      "metadata": {
        "colab": {
          "base_uri": "https://localhost:8080/"
        },
        "id": "RYW7PCuRCctT",
        "outputId": "fd0089c4-7ad9-4cca-b8c2-e64c0bf26ec2"
      },
      "execution_count": null,
      "outputs": [
        {
          "output_type": "stream",
          "name": "stdout",
          "text": [
            "Unsorted list is  [34, 5, 6, 81, 0, 5]\n",
            "[0, 5, 5, 6, 34, 81]\n"
          ]
        }
      ]
    },
    {
      "cell_type": "code",
      "source": [
        "#user input\n",
        "\n",
        "\n",
        "num=int(input(\"How many number you want to enter:\"))\n",
        "list1=[int(input(\"Enter the number:\"))for x in range (num)]\n",
        "\n",
        "\n",
        "for i in range(len(list1)-1):   \n",
        "  m_index=i\n",
        "  for j in range(i+1,len(list1)):\n",
        "      if list1[j] < list1[m_index]:\n",
        "        m_index=j\n",
        "  if(list1[i])!=list1[m_index]:\n",
        "    list1[i],list1[m_index]=list1[m_index],list1[i]\n",
        "print(list1)"
      ],
      "metadata": {
        "colab": {
          "base_uri": "https://localhost:8080/"
        },
        "id": "JIuUwMs4EBA_",
        "outputId": "85bf599e-cac8-4c9a-b874-15f5f5cf8e29"
      },
      "execution_count": null,
      "outputs": [
        {
          "output_type": "stream",
          "name": "stdout",
          "text": [
            "How many number you want to enter:4\n",
            "Enter the number:12\n",
            "Enter the number:88\n",
            "Enter the number:14\n",
            "Enter the number:8\n",
            "[8, 12, 14, 88]\n"
          ]
        }
      ]
    },
    {
      "cell_type": "code",
      "source": [],
      "metadata": {
        "id": "6vA5BFt_E5P1"
      },
      "execution_count": null,
      "outputs": []
    }
  ]
}